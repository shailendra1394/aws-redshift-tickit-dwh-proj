{
 "cells": [
  {
   "cell_type": "code",
   "execution_count": 54,
   "id": "91f76dcc-45d8-4647-b6a1-4d1d35ca2b69",
   "metadata": {},
   "outputs": [],
   "source": [
    "import boto3\n",
    "import pandas as pd\n",
    "import psycopg2\n",
    "import json"
   ]
  },
  {
   "cell_type": "code",
   "execution_count": 3,
   "id": "6d19cff2-3461-4861-b2e0-7f64800353c3",
   "metadata": {},
   "outputs": [],
   "source": [
    "import configparser\n",
    "config=configparser.ConfigParser()\n",
    "config.read_file(open('aws.config'))"
   ]
  },
  {
   "cell_type": "code",
   "execution_count": 35,
   "id": "0e4cb3b6-5fe6-4c89-87dc-4180b2d928da",
   "metadata": {},
   "outputs": [],
   "source": [
    "KEY=config.get(\"AWS\",\"KEY\")\n",
    "SECRET=config.get(\"AWS\",\"SECRET\")\n",
    "DWH_IAM_ROLE_NAME='redhshift-s3-access'"
   ]
  },
  {
   "cell_type": "code",
   "execution_count": 21,
   "id": "2c6cbde8-4a31-406f-9bcb-28e2bdeadcd8",
   "metadata": {},
   "outputs": [],
   "source": [
    "ec2 = boto3.resource('ec2',\n",
    "                    region_name=\"ap-south-1\",\n",
    "                    aws_access_key_id=KEY,\n",
    "                    aws_secret_access_key=SECRET\n",
    "                    )\n",
    "\n",
    "s3 = boto3.resource('s3',\n",
    "                    region_name=\"ap-south-1\",\n",
    "                    aws_access_key_id=KEY,\n",
    "                    aws_secret_access_key=SECRET\n",
    "                    )\n",
    "\n",
    "iam = boto3.client('iam',\n",
    "                    region_name=\"ap-south-1\",\n",
    "                    aws_access_key_id=KEY,\n",
    "                    aws_secret_access_key=SECRET\n",
    "                    )\n",
    "\n",
    "\n",
    "redshiftserverless = boto3.client('redshift-serverless',\n",
    "                                 region_name=\"ap-south-1\",\n",
    "                                 aws_access_key_id=KEY,\n",
    "                                 aws_secret_access_key=SECRET)\n",
    "                                   "
   ]
  },
  {
   "cell_type": "code",
   "execution_count": 32,
   "id": "1a6203d9-8c71-4d3b-93b0-fdd03f2cae3a",
   "metadata": {},
   "outputs": [
    {
     "data": {
      "text/plain": [
       "['allevents_pipe.txt',\n",
       " 'allusers_pipe.txt',\n",
       " 'category_pipe.txt',\n",
       " 'date2008_pipe.txt',\n",
       " 'listings_pipe.txt',\n",
       " 'sales_tab.txt',\n",
       " 'venue_pipe.txt']"
      ]
     },
     "execution_count": 32,
     "metadata": {},
     "output_type": "execute_result"
    }
   ],
   "source": [
    "bucket = s3.Bucket(\"shail-dev-bucket-1\")\n",
    "\n",
    "log_data_files = [filename.key for filename in bucket.objects.filter(Prefix='')]\n",
    "log_data_files"
   ]
  },
  {
   "cell_type": "code",
   "execution_count": 36,
   "id": "0426d4a1-0108-4601-bf1a-be59b2aeeda1",
   "metadata": {},
   "outputs": [
    {
     "data": {
      "text/plain": [
       "'arn:aws:iam::451876914000:role/redhshift-s3-access'"
      ]
     },
     "execution_count": 36,
     "metadata": {},
     "output_type": "execute_result"
    }
   ],
   "source": [
    "roleArn = iam.get_role(RoleName=DWH_IAM_ROLE_NAME)['Role']['Arn']\n",
    "roleArn"
   ]
  },
  {
   "cell_type": "code",
   "execution_count": 42,
   "id": "e6eb9300-bcc5-4d02-a7d9-8d39ded4a2d1",
   "metadata": {},
   "outputs": [
    {
     "data": {
      "text/plain": [
       "{'dbPassword': 'E6t3n1oi7yjXYQ3vpVpGL5CY2m09iAVqE6tSg7V+s/ORcMAdlpmb+fcEtTLKRF+CE4fiOn78b58xar2k58GAQ7wN6Ok4ldRqOutr3ly+l+2GInE6NOAvJwqAfC0OqNhd8csw5FM+VVi1prFejtvF7t/UXKF78ntfp2RGLNeDWJW+FX7BE7ZhRDuLf2qztPU1gqDJ+sBwFoQ/SyTMH999zILun58Y7LHgqnlmB6aUUX/cx6GiwTzYucQQMyvkh2NzrXIhjGooGiB6l9r1aqdbH6pwOHMM1hrQYHR2eadvWfI/ASUkDWEGksX91tYK8+eGJo+pKvgzSQPFZG6FPq5xpxn+PSgxLEGlachIv+5CF2LEFDbxA4LhcOsJHYGEOFfr2aYw2HFEGMBADhG3GMoBd7ZGbS83bJGMUMwDAxa437f1h0hZzLT95vH9b8QOqCOEhw2+JbKRG7OJfc8lBa2F7WB8JZuZo8yHx5+CHs9D93c5JMpSJnJ+UK24OufG+iQo2irAp9gvkgFe2AwgS6DNH48JyIwBr8Y4R2Uy1qShlWnIhPOaZSW27cAaXX7RGywMT8KvavqRBE3NT+CagJ/4Rc/HIcUajTkS/jZNqMJUj9p/OfvdouMSda14RJBWhQePq7E1cH5NwHYiomuh7jskNm5G3yoaiUwUSWm2wK+X/TDVFuIiKims6h26sGWZMPbGumen+LCzO51tiXmlsB6mNJApP/FDA4WxKeIjGnrxmJ9wu8hT+hJFy8CinardMXXAdrgjPJXpj8ouOLTpKqkARadhjDr15HOAeSezxwgOydBta8NE96Yk9cX4YPlZutMu1NQ5UcQKMC8qr6bSh/y8/S7zXyx/ND2zLIJhJ4LghdnZFwUFm5JH8MJR0JxT7CkgebFH5pXnELGeN8kTVWcfBymeagnV/K+eXcy0wRVZ6FamCFKyZAcVIn/PWACKAbiLR/Kw6ZqUzuAnM6vNZP3Hn/smwwN0TIzwP2vOaxHnFvRevOKm2iaKp7XdFr/lm32+exV9zyYsTxntAIMVfCMA+3yDOJeE9bo45QmEex+Lll0GHyMtIGdZq/3m992dGaUX7lx9AVONxePuVHp1zDzeursfRIhNMgvYwn7/54+DwjGXng2ik3N/YOfRr94JUlXpoiDiGFbOm6ir21nHyXf5btzhBiiautAp0vsSnWVE3xoVBMCpLQC6SCDraISw9UVzxzAkUigx/JIJ/8YmsuGcQ87UaF/mld8UNRJTQ7af2+UlRmYXdURErEy55',\n",
       " 'dbUser': 'IAM:shail-dev',\n",
       " 'expiration': datetime.datetime(2023, 9, 17, 22, 29, 8, 916000, tzinfo=tzlocal()),\n",
       " 'nextRefreshTime': datetime.datetime(2023, 9, 17, 23, 29, 8, 916000, tzinfo=tzlocal()),\n",
       " 'ResponseMetadata': {'RequestId': 'a666fe7d-c12d-4cb2-9117-e084e1f88e9f',\n",
       "  'HTTPStatusCode': 200,\n",
       "  'HTTPHeaders': {'x-amzn-requestid': 'a666fe7d-c12d-4cb2-9117-e084e1f88e9f',\n",
       "   'date': 'Sun, 17 Sep 2023 15:59:08 GMT',\n",
       "   'content-type': 'application/x-amz-json-1.1',\n",
       "   'content-length': '1380',\n",
       "   'connection': 'keep-alive'},\n",
       "  'RetryAttempts': 0}}"
      ]
     },
     "execution_count": 42,
     "metadata": {},
     "output_type": "execute_result"
    }
   ],
   "source": [
    "response = redshiftserverless.get_credentials(\n",
    "    dbName='dev',\n",
    "    durationSeconds=3600,\n",
    "    workgroupName='default-workgroup'\n",
    ")\n",
    "response"
   ]
  },
  {
   "cell_type": "code",
   "execution_count": 87,
   "id": "63117360-089f-4e5a-9ff0-6102b46c9c89",
   "metadata": {},
   "outputs": [],
   "source": [
    "try:\n",
    "    conn = psycopg2.connect (host='default-workgroup.451876914000.ap-south-1.redshift-serverless.amazonaws.com', dbname='shail-db', user='admin', password='Passw0rd',port=5439)\n",
    "except psycopg2.Error as e:\n",
    "    print(\"Error: Could not make connection to the Postgres database\")\n",
    "    print(e)\n",
    "conn.set_session (autocommit=True)\n"
   ]
  },
  {
   "cell_type": "code",
   "execution_count": 88,
   "id": "da6cd98d-9e86-4861-87c1-eecb7a54676d",
   "metadata": {},
   "outputs": [],
   "source": [
    "cur = conn.cursor()"
   ]
  },
  {
   "cell_type": "code",
   "execution_count": 60,
   "id": "891a98d8-cf0b-45d1-ad65-718973f1b0d6",
   "metadata": {},
   "outputs": [
    {
     "ename": "DuplicateTable",
     "evalue": "Relation \"users\" already exists\n",
     "output_type": "error",
     "traceback": [
      "\u001b[0;31m---------------------------------------------------------------------------\u001b[0m",
      "\u001b[0;31mDuplicateTable\u001b[0m                            Traceback (most recent call last)",
      "Cell \u001b[0;32mIn[60], line 1\u001b[0m\n\u001b[0;32m----> 1\u001b[0m \u001b[43mcur\u001b[49m\u001b[38;5;241;43m.\u001b[39;49m\u001b[43mexecute\u001b[49m\u001b[43m \u001b[49m\u001b[43m(\u001b[49m\u001b[38;5;124;43m\"\"\"\u001b[39;49m\u001b[38;5;124;43mcreate table users (\u001b[39;49m\n\u001b[1;32m      2\u001b[0m \u001b[38;5;124;43muserid integer not null distkey sortkey,\u001b[39;49m\n\u001b[1;32m      3\u001b[0m \u001b[38;5;124;43musername char (8),\u001b[39;49m\n\u001b[1;32m      4\u001b[0m \u001b[38;5;124;43mfirstname varchar (30),\u001b[39;49m\n\u001b[1;32m      5\u001b[0m \u001b[38;5;124;43mlastname varchar (30),\u001b[39;49m\n\u001b[1;32m      6\u001b[0m \u001b[38;5;124;43mcity varchar (30),\u001b[39;49m\n\u001b[1;32m      7\u001b[0m \u001b[38;5;124;43mstate char (2),\u001b[39;49m\n\u001b[1;32m      8\u001b[0m \u001b[38;5;124;43memail varchar (100),\u001b[39;49m\n\u001b[1;32m      9\u001b[0m \u001b[38;5;124;43mphone char (14),\u001b[39;49m\n\u001b[1;32m     10\u001b[0m \u001b[38;5;124;43mlikesports boolean,\u001b[39;49m\n\u001b[1;32m     11\u001b[0m \u001b[38;5;124;43mliketheatre boolean,\u001b[39;49m\n\u001b[1;32m     12\u001b[0m \u001b[38;5;124;43mlikeconcerts boolean,\u001b[39;49m\n\u001b[1;32m     13\u001b[0m \u001b[38;5;124;43mlikejazz boolean,\u001b[39;49m\n\u001b[1;32m     14\u001b[0m \u001b[38;5;124;43mlikeclassical boolean,\u001b[39;49m\n\u001b[1;32m     15\u001b[0m \u001b[38;5;124;43mlikeopera boolean,\u001b[39;49m\n\u001b[1;32m     16\u001b[0m \u001b[38;5;124;43mlikerock boolean,\u001b[39;49m\n\u001b[1;32m     17\u001b[0m \u001b[38;5;124;43mlikevegas boolean,\u001b[39;49m\n\u001b[1;32m     18\u001b[0m \u001b[38;5;124;43mlikebroadway boolean,\u001b[39;49m\n\u001b[1;32m     19\u001b[0m \u001b[38;5;124;43mlikemusicals boolean);\u001b[39;49m\u001b[38;5;124;43m\"\"\"\u001b[39;49m\u001b[43m)\u001b[49m\n",
      "\u001b[0;31mDuplicateTable\u001b[0m: Relation \"users\" already exists\n"
     ]
    }
   ],
   "source": [
    "cur.execute (\"\"\"create table users (\n",
    "userid integer not null distkey sortkey,\n",
    "username char (8),\n",
    "firstname varchar (30),\n",
    "lastname varchar (30),\n",
    "city varchar (30),\n",
    "state char (2),\n",
    "email varchar (100),\n",
    "phone char (14),\n",
    "likesports boolean,\n",
    "liketheatre boolean,\n",
    "likeconcerts boolean,\n",
    "likejazz boolean,\n",
    "likeclassical boolean,\n",
    "likeopera boolean,\n",
    "likerock boolean,\n",
    "likevegas boolean,\n",
    "likebroadway boolean,\n",
    "likemusicals boolean);\"\"\")"
   ]
  },
  {
   "cell_type": "code",
   "execution_count": 63,
   "id": "93558ecc-8f8f-4b10-af20-b8bac1b5a3e1",
   "metadata": {},
   "outputs": [
    {
     "name": "stdout",
     "output_type": "stream",
     "text": [
      "Error: Issue creating table!!!\n",
      "Relation \"date\" already exists\n",
      "\n"
     ]
    }
   ],
   "source": [
    "try:\n",
    "\n",
    "    cur.execute (\"\"\"\n",
    "\n",
    "create table date (\n",
    "    dateid smallint not null distkey sortkey,\n",
    "    caldate date not null,\n",
    "    day char(3) not null,\n",
    "    week smallint not null,\n",
    "    month char(3) not null,\n",
    "    qtr char(5) not null,\n",
    "    year smallint not null,\n",
    "    holiday boolean default('N')\n",
    ");\n",
    "\n",
    "create table category(\n",
    "    catid smallint not null distkey sortkey,\n",
    "    catgroup varchar(10),\n",
    "    catname varchar(10),\n",
    "    catdesc varchar(50)\n",
    ");\n",
    "\n",
    "create table venue(\n",
    "    venueid smallint not null distkey sortkey,\n",
    "    venuename varchar(100),\n",
    "    venuecity varchar(30),\n",
    "    venuestate char(2),\n",
    "    venueseates integer\n",
    ");\n",
    "\n",
    "create table events(\n",
    "    eventid integer not null distkey,\n",
    "    venueid smallint not null,\n",
    "    catid smallint not null,\n",
    "    dateid smallint not null,\n",
    "    eventname varchar(200)\n",
    "    starttime timestamp\n",
    ");\n",
    "\n",
    "create table listing(\n",
    "    listid integer not null distkey,\n",
    "    sellerid integer not null,\n",
    "    eventid integer not null,\n",
    "    dateid smallint not null,\n",
    "    numtickets smallint,\n",
    "    priceperticket decimal(8,2),\n",
    "    totalprice decimal(8,2),\n",
    "    listtime timestamp\n",
    ");\n",
    "\n",
    "create table sales(\n",
    "    salesid integer not null distkey,\n",
    "    listid integer not null,\n",
    "    sellerid integer not null,\n",
    "    buyerid integer not null,\n",
    "    eventid integer not null,\n",
    "    dateid smallint not null,\n",
    "    qtysold smallint,\n",
    "    pricepaid decimal(8,2),\n",
    "    commission decimal(8,2),\n",
    "    saletime timestamp\n",
    ");\n",
    "\n",
    "    \"\"\")\n",
    "\n",
    "except psycopg2.Error as e:\n",
    "    print(\"Error: Issue creating table!!!\")\n",
    "    print(e)"
   ]
  },
  {
   "cell_type": "code",
   "execution_count": 79,
   "id": "11a3e7be-2480-451f-8983-239eb39650de",
   "metadata": {},
   "outputs": [],
   "source": [
    "try:\n",
    "    cur.execute(\"\"\"\n",
    "    copy users from 's3://shail-dev-bucket-1/allusers_pipe.txt'\n",
    "    credentials 'aws_iam_role=arn:aws:iam::451876914000:role/redhshift-s3-access'\n",
    "    delimiter '|'\n",
    "    region 'ap-south-1'\n",
    "    \"\"\")\n",
    "\n",
    "except psycopg2.Error as e:\n",
    "    print(\"Error loading the data into tables!!!\")\n",
    "    print(e)"
   ]
  },
  {
   "cell_type": "code",
   "execution_count": 90,
   "id": "3b886219-4624-4344-a21c-378179ee09e6",
   "metadata": {},
   "outputs": [],
   "source": [
    "try:\n",
    "    cur.execute(\"\"\"\n",
    "    copy events from 's3://shail-dev-bucket-1/allevents_pipe.txt'\n",
    "    credentials 'aws_iam_role=arn:aws:iam::451876914000:role/redhshift-s3-access'\n",
    "    delimiter '|'\n",
    "    region 'ap-south-1'    \n",
    "    \"\"\")\n",
    "except psycopg2.Error as e:\n",
    "    print(\"Error loading the data into tables!!!\")\n",
    "    print(e)"
   ]
  },
  {
   "cell_type": "code",
   "execution_count": 82,
   "id": "f226bed4-b6e0-4c68-863c-d3b21b4aee94",
   "metadata": {},
   "outputs": [
    {
     "ename": "InternalError_",
     "evalue": "Load into table 'sales' failed.  Check 'sys_load_error_detail' system table for details.\n",
     "output_type": "error",
     "traceback": [
      "\u001b[0;31m---------------------------------------------------------------------------\u001b[0m",
      "\u001b[0;31mInternalError_\u001b[0m                            Traceback (most recent call last)",
      "Cell \u001b[0;32mIn[82], line 8\u001b[0m\n\u001b[1;32m      1\u001b[0m cur\u001b[38;5;241m.\u001b[39mexecute(\u001b[38;5;124m\"\"\"\u001b[39m\n\u001b[1;32m      2\u001b[0m \u001b[38;5;124mcopy date from \u001b[39m\u001b[38;5;124m'\u001b[39m\u001b[38;5;124ms3://shail-dev-bucket-1/date2008_pipe.txt\u001b[39m\u001b[38;5;124m'\u001b[39m\n\u001b[1;32m      3\u001b[0m \u001b[38;5;124mcredentials \u001b[39m\u001b[38;5;124m'\u001b[39m\u001b[38;5;124maws_iam_role=arn:aws:iam::451876914000:role/redhshift-s3-access\u001b[39m\u001b[38;5;124m'\u001b[39m\n\u001b[1;32m      4\u001b[0m \u001b[38;5;124mdelimiter \u001b[39m\u001b[38;5;124m'\u001b[39m\u001b[38;5;124m|\u001b[39m\u001b[38;5;124m'\u001b[39m\n\u001b[1;32m      5\u001b[0m \u001b[38;5;124mregion \u001b[39m\u001b[38;5;124m'\u001b[39m\u001b[38;5;124map-south-1\u001b[39m\u001b[38;5;124m'\u001b[39m\n\u001b[1;32m      6\u001b[0m \u001b[38;5;124m\"\"\"\u001b[39m)\n\u001b[0;32m----> 8\u001b[0m \u001b[43mcur\u001b[49m\u001b[38;5;241;43m.\u001b[39;49m\u001b[43mexecute\u001b[49m\u001b[43m(\u001b[49m\u001b[38;5;124;43m\"\"\"\u001b[39;49m\n\u001b[1;32m      9\u001b[0m \u001b[38;5;124;43mcopy sales from \u001b[39;49m\u001b[38;5;124;43m'\u001b[39;49m\u001b[38;5;124;43ms3://shail-dev-bucket-1/sales_tab.txt\u001b[39;49m\u001b[38;5;124;43m'\u001b[39;49m\n\u001b[1;32m     10\u001b[0m \u001b[38;5;124;43mcredentials \u001b[39;49m\u001b[38;5;124;43m'\u001b[39;49m\u001b[38;5;124;43maws_iam_role=arn:aws:iam::451876914000:role/redhshift-s3-access\u001b[39;49m\u001b[38;5;124;43m'\u001b[39;49m\n\u001b[1;32m     11\u001b[0m \u001b[38;5;124;43mdelimiter \u001b[39;49m\u001b[38;5;124;43m'\u001b[39;49m\u001b[38;5;130;43;01m\\t\u001b[39;49;00m\u001b[38;5;124;43m'\u001b[39;49m\n\u001b[1;32m     12\u001b[0m \u001b[38;5;124;43mregion \u001b[39;49m\u001b[38;5;124;43m'\u001b[39;49m\u001b[38;5;124;43map-south-1\u001b[39;49m\u001b[38;5;124;43m'\u001b[39;49m\n\u001b[1;32m     13\u001b[0m \u001b[38;5;124;43m\"\"\"\u001b[39;49m\u001b[43m)\u001b[49m\n\u001b[1;32m     15\u001b[0m cur\u001b[38;5;241m.\u001b[39mexecute(\u001b[38;5;124m\"\"\"\u001b[39m\n\u001b[1;32m     16\u001b[0m \u001b[38;5;124mcopy lisitngs from \u001b[39m\u001b[38;5;124m'\u001b[39m\u001b[38;5;124ms3://shail-dev-bucket-1/listings_pipe.txt\u001b[39m\u001b[38;5;124m'\u001b[39m\n\u001b[1;32m     17\u001b[0m \u001b[38;5;124mcredentials \u001b[39m\u001b[38;5;124m'\u001b[39m\u001b[38;5;124maws_iam_role=arn:aws:iam::451876914000:role/redhshift-s3-access\u001b[39m\u001b[38;5;124m'\u001b[39m\n\u001b[1;32m     18\u001b[0m \u001b[38;5;124mdelimiter \u001b[39m\u001b[38;5;124m'\u001b[39m\u001b[38;5;124m|\u001b[39m\u001b[38;5;124m'\u001b[39m\n\u001b[1;32m     19\u001b[0m \u001b[38;5;124mregion \u001b[39m\u001b[38;5;124m'\u001b[39m\u001b[38;5;124map-south-1\u001b[39m\u001b[38;5;124m'\u001b[39m\n\u001b[1;32m     20\u001b[0m \u001b[38;5;124m\"\"\"\u001b[39m)\n\u001b[1;32m     22\u001b[0m cur\u001b[38;5;241m.\u001b[39mexecute(\u001b[38;5;124m\"\"\"\u001b[39m\n\u001b[1;32m     23\u001b[0m \u001b[38;5;124mcopy category from \u001b[39m\u001b[38;5;124m'\u001b[39m\u001b[38;5;124ms3://shail-dev-bucket-1/category_pipe.txt\u001b[39m\u001b[38;5;124m'\u001b[39m\n\u001b[1;32m     24\u001b[0m \u001b[38;5;124mcredentials \u001b[39m\u001b[38;5;124m'\u001b[39m\u001b[38;5;124maws_iam_role=arn:aws:iam::451876914000:role/redhshift-s3-access\u001b[39m\u001b[38;5;124m'\u001b[39m\n\u001b[1;32m     25\u001b[0m \u001b[38;5;124mdelimiter \u001b[39m\u001b[38;5;124m'\u001b[39m\u001b[38;5;124m|\u001b[39m\u001b[38;5;124m'\u001b[39m\n\u001b[1;32m     26\u001b[0m \u001b[38;5;124mregion \u001b[39m\u001b[38;5;124m'\u001b[39m\u001b[38;5;124map-south-1\u001b[39m\u001b[38;5;124m'\u001b[39m\n\u001b[1;32m     27\u001b[0m \u001b[38;5;124m\"\"\"\u001b[39m)\n",
      "\u001b[0;31mInternalError_\u001b[0m: Load into table 'sales' failed.  Check 'sys_load_error_detail' system table for details.\n"
     ]
    }
   ],
   "source": [
    "    cur.execute(\"\"\"\n",
    "    copy date from 's3://shail-dev-bucket-1/date2008_pipe.txt'\n",
    "    credentials 'aws_iam_role=arn:aws:iam::451876914000:role/redhshift-s3-access'\n",
    "    delimiter '|'\n",
    "    region 'ap-south-1'\n",
    "    \"\"\")\n",
    "\n",
    "    cur.execute(\"\"\"\n",
    "    copy sales from 's3://shail-dev-bucket-1/sales_tab.txt'\n",
    "    credentials 'aws_iam_role=arn:aws:iam::451876914000:role/redhshift-s3-access'\n",
    "    delimiter '\\t'\n",
    "    region 'ap-south-1'\n",
    "    \"\"\")\n",
    "\n",
    "    cur.execute(\"\"\"\n",
    "    copy lisitngs from 's3://shail-dev-bucket-1/listings_pipe.txt'\n",
    "    credentials 'aws_iam_role=arn:aws:iam::451876914000:role/redhshift-s3-access'\n",
    "    delimiter '|'\n",
    "    region 'ap-south-1'\n",
    "    \"\"\")\n",
    "\n",
    "    cur.execute(\"\"\"\n",
    "    copy category from 's3://shail-dev-bucket-1/category_pipe.txt'\n",
    "    credentials 'aws_iam_role=arn:aws:iam::451876914000:role/redhshift-s3-access'\n",
    "    delimiter '|'\n",
    "    region 'ap-south-1'\n",
    "    \"\"\")\n",
    "\n",
    "    cur.execute(\"\"\"\n",
    "    copy venue from 's3://shail-dev-bucket-1/venue_pipe.txt'\n",
    "    credentials 'aws_iam_role=arn:aws:iam::451876914000:role/redhshift-s3-access'\n",
    "    delimiter '|'\n",
    "    region 'ap-south-1'\n",
    "    \"\"\")"
   ]
  },
  {
   "cell_type": "code",
   "execution_count": 91,
   "id": "3f5eed88-68e9-4d53-ace1-b274a2ae0cf9",
   "metadata": {},
   "outputs": [],
   "source": [
    "conn.close()"
   ]
  }
 ],
 "metadata": {
  "kernelspec": {
   "display_name": "Python 3 (ipykernel)",
   "language": "python",
   "name": "python3"
  },
  "language_info": {
   "codemirror_mode": {
    "name": "ipython",
    "version": 3
   },
   "file_extension": ".py",
   "mimetype": "text/x-python",
   "name": "python",
   "nbconvert_exporter": "python",
   "pygments_lexer": "ipython3",
   "version": "3.11.4"
  }
 },
 "nbformat": 4,
 "nbformat_minor": 5
}
